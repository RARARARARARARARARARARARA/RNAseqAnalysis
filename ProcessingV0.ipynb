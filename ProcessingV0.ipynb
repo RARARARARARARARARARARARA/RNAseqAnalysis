{
 "cells": [
  {
   "cell_type": "code",
   "execution_count": 3,
   "metadata": {},
   "outputs": [],
   "source": [
    "import numpy as np\n",
    "import scipy as sp\n",
    "import pandas as pd\n",
    "from os import listdir\n",
    "import shutil\n",
    "import seaborn as sb\n",
    "import matplotlib.pyplot as plt\n",
    "from matplotlib import rcParams\n",
    "from matplotlib import colors\n",
    "from sklearn.manifold import TSNE\n",
    "import subprocess\n",
    "import shlex\n"
   ]
  },
  {
   "cell_type": "markdown",
   "metadata": {},
   "source": [
    "Aging is the time dependant weaking of the body. For example, aging in the pancreous can predispose people to diabetes (https://www.imrpress.com/journal/FBE/10/1/10.2741/e813). I will attempt to find theraputic targets that could be used to target aging in the pancreatus using scRNA-Seq data from  https://www.ncbi.nlm.nih.gov/geo/query/acc.cgi?acc=GSE81547.\n",
    "\n",
    "A good target is a gene or pathway that:\n",
    "\n",
    "(1) Has reletively constant expression accross cells from the same individual\n",
    "\n",
    "(2) Is highly corraltive with age. Ideally, the relationship would be monotonic\n",
    "\n",
    "(3) As a large magnatude of change with age"
   ]
  },
  {
   "cell_type": "markdown",
   "metadata": {},
   "source": [
    "# Data Preprocessing\n",
    "\n",
    "Creates the aggragated data for each sample in the ClupedData folder\n",
    "\n",
    "This just puts the data in a nicer form for downstream processing: files named with the donor age and sex with the counts of each RNA in each row."
   ]
  },
  {
   "cell_type": "markdown",
   "metadata": {},
   "source": [
    "This is the description of the data:\n",
    "\n",
    "\tAs organisms age, cells accumulate genetic and epigenetic changes that eventually lead to impaired organ function or catastrophic failure such as cancer. Here we describe a single-cell transcriptome analysis of 2544 human pancreas cells from donors, spanning six decades of life. We find that islet cells from older donors have increased levels of disorder as measured both by noise in the transcriptome and by the number of cells which display inappropriate hormone expression, revealing a transcriptional instability associated with aging. By analyzing the spectrum of somatic mutations in single cells from previously-healthy donors, we find a specific age-dependent mutational signature characterized by C to A and C to G transversions, indicators of oxidative stress, which is absent in single cells from human brain tissue or in a tumor cell line. Cells carrying a high load of such mutations also express higher levels of stress and senescence markers, including FOS, JUN, and the cytoplasmic superoxide dismutase SOD1, markers previously linked to pancreatic diseases with substantial age-dependent risk, such as type 2 diabetes mellitus and adenocarcinoma. Thus, our single-cell approach unveils gene expression changes and somatic mutations acquired in aging human tissue, and identifies molecular pathways induced by these genetic changes that could influence human disease. Also, our results demonstrate the feasibility of using single-cell RNA-seq data from primary cells to derive meaningful insights into the genetic processes that operate on aging human tissue and to determine which molecular mechanisms are coordinated with these processes.\n",
    "\n",
    "This dataset contains scRNA-seq data on the pancreas of humans of various ages."
   ]
  },
  {
   "cell_type": "code",
   "execution_count": 4,
   "metadata": {},
   "outputs": [
    {
     "data": {
      "text/html": [
       "<div>\n",
       "<style scoped>\n",
       "    .dataframe tbody tr th:only-of-type {\n",
       "        vertical-align: middle;\n",
       "    }\n",
       "\n",
       "    .dataframe tbody tr th {\n",
       "        vertical-align: top;\n",
       "    }\n",
       "\n",
       "    .dataframe thead th {\n",
       "        text-align: right;\n",
       "    }\n",
       "</style>\n",
       "<table border=\"1\" class=\"dataframe\">\n",
       "  <thead>\n",
       "    <tr style=\"text-align: right;\">\n",
       "      <th></th>\n",
       "      <th>0</th>\n",
       "      <th>1</th>\n",
       "    </tr>\n",
       "  </thead>\n",
       "  <tbody>\n",
       "    <tr>\n",
       "      <th>0</th>\n",
       "      <td>1/2-SBSRNA4</td>\n",
       "      <td>0</td>\n",
       "    </tr>\n",
       "    <tr>\n",
       "      <th>1</th>\n",
       "      <td>A1BG</td>\n",
       "      <td>0</td>\n",
       "    </tr>\n",
       "    <tr>\n",
       "      <th>2</th>\n",
       "      <td>A1BG-AS1</td>\n",
       "      <td>0</td>\n",
       "    </tr>\n",
       "    <tr>\n",
       "      <th>3</th>\n",
       "      <td>A1CF</td>\n",
       "      <td>0</td>\n",
       "    </tr>\n",
       "    <tr>\n",
       "      <th>4</th>\n",
       "      <td>A2LD1</td>\n",
       "      <td>0</td>\n",
       "    </tr>\n",
       "    <tr>\n",
       "      <th>...</th>\n",
       "      <td>...</td>\n",
       "      <td>...</td>\n",
       "    </tr>\n",
       "    <tr>\n",
       "      <th>23460</th>\n",
       "      <td>no_feature</td>\n",
       "      <td>407558</td>\n",
       "    </tr>\n",
       "    <tr>\n",
       "      <th>23461</th>\n",
       "      <td>ambiguous</td>\n",
       "      <td>3754</td>\n",
       "    </tr>\n",
       "    <tr>\n",
       "      <th>23462</th>\n",
       "      <td>too_low_aQual</td>\n",
       "      <td>0</td>\n",
       "    </tr>\n",
       "    <tr>\n",
       "      <th>23463</th>\n",
       "      <td>not_aligned</td>\n",
       "      <td>0</td>\n",
       "    </tr>\n",
       "    <tr>\n",
       "      <th>23464</th>\n",
       "      <td>alignment_not_unique</td>\n",
       "      <td>85563</td>\n",
       "    </tr>\n",
       "  </tbody>\n",
       "</table>\n",
       "<p>23465 rows × 2 columns</p>\n",
       "</div>"
      ],
      "text/plain": [
       "                          0       1\n",
       "0               1/2-SBSRNA4       0\n",
       "1                      A1BG       0\n",
       "2                  A1BG-AS1       0\n",
       "3                      A1CF       0\n",
       "4                     A2LD1       0\n",
       "...                     ...     ...\n",
       "23460            no_feature  407558\n",
       "23461             ambiguous    3754\n",
       "23462         too_low_aQual       0\n",
       "23463           not_aligned       0\n",
       "23464  alignment_not_unique   85563\n",
       "\n",
       "[23465 rows x 2 columns]"
      ]
     },
     "execution_count": 4,
     "metadata": {},
     "output_type": "execute_result"
    }
   ],
   "source": [
    "path = 'GSE81547'\n",
    "datasets = sorted([path+'/'+i for i in listdir(path)])\n",
    "\n",
    "pd.read_csv(datasets[0],delimiter='\\t',header=None)"
   ]
  },
  {
   "cell_type": "markdown",
   "metadata": {},
   "source": [
    "The files themselves don't contain any information on the samples. Clumn 0 contains the gene and column 1 contains the Transcript counts. The last 5 rows contains data on the RNA-Seq preprocessing. First lets use the metadata file to get the ages and sexes of each sample."
   ]
  },
  {
   "cell_type": "code",
   "execution_count": 5,
   "metadata": {},
   "outputs": [],
   "source": [
    "id2file = lambda id: [i for i in datasets if i[i.find('/')+1:i.find('_')] == id][0]\n",
    "with open('GSE81547_series_matrix.txt') as f:\n",
    "    for line in f:\n",
    "        if line.startswith('!Series_sample_id'):\n",
    "            identifier = line[len('!Series_sample_id\\t')+1:-3].split(' ')\n",
    "        if line.startswith('!Sample_title'):\n",
    "            donor = [(int(i[1:i.find('yr')]),i[i.find('_')+1]) for i in line[len('!Sample_title\\t'):].split('\\t')]\n",
    "            donor = [(i, [id2file(identifier[j]) for j,k in enumerate(donor) if k == i]) for i in set(donor)]\n",
    "donor.sort()"
   ]
  },
  {
   "cell_type": "code",
   "execution_count": 6,
   "metadata": {},
   "outputs": [],
   "source": [
    "for id,files in donor:\n",
    "    dfs = [pd.read_csv(files[0],delimiter='\\t',header=None)] + [pd.read_csv(f,delimiter='\\t',header=None)[1] for f in files[1:]]\n",
    "    totdata = pd.concat(dfs,axis=1).iloc[:-5, :]\n",
    "    totdata.columns = ['Gene'] + list(range(len(totdata.columns)-1))\n",
    "    totdata.to_csv(f'ClumpedData/{\"0\"*(id[0]<10)}{id[0]}_{id[1]}.csv',index=False,sep='\\t')"
   ]
  },
  {
   "cell_type": "markdown",
   "metadata": {},
   "source": [
    "Now we have a function that takes the file name and returns the metadata"
   ]
  },
  {
   "cell_type": "markdown",
   "metadata": {},
   "source": [
    "# Data Cleaning\n",
    "\n",
    "Let's start by cleaning the data"
   ]
  },
  {
   "cell_type": "markdown",
   "metadata": {},
   "source": [
    "I will be using enhance from https://www.biorxiv.org/content/10.1101/655365v2.full\n",
    "\n",
    "The algorithm is incredibly simple. It basically assumes the data has a large nullspace and the data is noisy and uses PCA to choose which dimensions to keep."
   ]
  },
  {
   "cell_type": "code",
   "execution_count": 7,
   "metadata": {},
   "outputs": [],
   "source": [
    "folder = 'ClumpedData/'\n",
    "for file in listdir(folder):\n",
    "    subprocess.call(shlex.split(f'python3 enhance/enhance.py -f {folder+file} -o DenoisedData/{file}'))\n"
   ]
  },
  {
   "cell_type": "markdown",
   "metadata": {},
   "source": [
    "Now that the data is denoised, I can start removing genes that won't help me find a theraputic target for aging.\n",
    "\n",
    "The first thing to do would be removing genes whose standard deviation is larger within groups that throughout groups."
   ]
  },
  {
   "cell_type": "code",
   "execution_count": 8,
   "metadata": {},
   "outputs": [
    {
     "name": "stdout",
     "output_type": "stream",
     "text": [
      "(Genes, Cells) = (23460, 221)\n",
      "(Genes, Cells) = (23460, 331)\n",
      "(Genes, Cells) = (23460, 178)\n",
      "(Genes, Cells) = (23460, 505)\n",
      "(Genes, Cells) = (23460, 286)\n",
      "(Genes, Cells) = (23460, 474)\n",
      "(Genes, Cells) = (23460, 277)\n",
      "(Genes, Cells) = (23460, 272)\n",
      "Failed genes due to high in group variance: 13238\n",
      "Possible genes: 10222\n"
     ]
    }
   ],
   "source": [
    "folder = 'DenoisedData/'\n",
    "stds = []\n",
    "means = []\n",
    "for i,f in enumerate(sorted(listdir(folder))):\n",
    "    df = pd.read_csv(folder+f,delimiter='\\t')\n",
    "    counts = df[df.columns[1:]]\n",
    "    genes = df['Gene']\n",
    "    print('(Genes, Cells) =',counts.shape)\n",
    "    genemean = counts.mean(axis=1)\n",
    "\n",
    "    # genestd = counts.std(axis=1)\n",
    "    sim = 10\n",
    "    part = 0.1\n",
    "    datapt = []\n",
    "    chosen = list(range(counts.shape[1]))\n",
    "    for _ in range(sim):\n",
    "        np.random.shuffle(chosen)\n",
    "        datapt += [np.array(counts)[:,chosen[:int(len(chosen)*part)]].mean(axis=1)]\n",
    "    genestd = np.array(datapt).std(axis=0)\n",
    "\n",
    "    \n",
    "    stds += [genestd]\n",
    "    means += [genemean]\n",
    "\n",
    "stds = np.array(list(stds))\n",
    "means = np.array(list(means))\n",
    "outgroupstd = means.var(axis=0)\n",
    "ingroupstd = stds.max(axis=0)\n",
    "print('Failed genes due to high in group variance:',sum(ingroupstd >= outgroupstd))\n",
    "print('Possible genes:',sum(ingroupstd < outgroupstd))\n",
    "potentialgenes = genes[ingroupstd < outgroupstd]\n"
   ]
  },
  {
   "cell_type": "markdown",
   "metadata": {},
   "source": [
    "# Attempt 1: Genes Corrolated with Age"
   ]
  },
  {
   "cell_type": "markdown",
   "metadata": {},
   "source": [
    "Let's search for any genes that highly corrolate with age. They would be potential targets"
   ]
  },
  {
   "cell_type": "code",
   "execution_count": 9,
   "metadata": {},
   "outputs": [
    {
     "name": "stdout",
     "output_type": "stream",
     "text": [
      "(8, 23460)\n",
      "Corrolated genes that also work with the pearson corrolation criteria: 76\n"
     ]
    }
   ],
   "source": [
    "print(means.shape)\n",
    "t = [int(i[:2]) for i in sorted(listdir(folder))]\n",
    "goodinds = []\n",
    "for i,y in enumerate(means[:,potentialgenes.index].T):\n",
    "    if np.max(y) > 1:\n",
    "        r,p = sp.stats.pearsonr(t,y)\n",
    "        if abs(r) > 0.8 and p < 0.05:\n",
    "            goodinds += [potentialgenes.index[i]]\n",
    "\n",
    "\n",
    "print('Corrolated genes that also work with the pearson corrolation criteria:',len(goodinds))"
   ]
  },
  {
   "cell_type": "code",
   "execution_count": 10,
   "metadata": {},
   "outputs": [],
   "source": [
    "with open('EnrichedGenesV0.txt','w+') as f:\n",
    "    for i in genes[goodinds]:\n",
    "        f.write(i+'\\n')"
   ]
  },
  {
   "cell_type": "markdown",
   "metadata": {},
   "source": [
    "These genes were then ran through Reactome for pathway analysis. The false discovery rate tended to be around 0.826 which is way to high for me to confidently say these genes are somehow related through pathway similarities.\n",
    "\n",
    "The genes are still potentially theraputic targets though."
   ]
  },
  {
   "cell_type": "markdown",
   "metadata": {},
   "source": [
    "# Reactome Pathway Analysis Explanation"
   ]
  },
  {
   "cell_type": "markdown",
   "metadata": {},
   "source": [
    "Section 4 shows the most upregulated pathways. There's a lot of senescence associated pathways, which matches up with the fact that older people have more senescent cells."
   ]
  }
 ],
 "metadata": {
  "interpreter": {
   "hash": "569d0bbc3854db4a73f5be0bb5576848176d13611564839ca8e34057b1299597"
  },
  "kernelspec": {
   "display_name": "Python 3.8.8 ('base')",
   "language": "python",
   "name": "python3"
  },
  "language_info": {
   "codemirror_mode": {
    "name": "ipython",
    "version": 3
   },
   "file_extension": ".py",
   "mimetype": "text/x-python",
   "name": "python",
   "nbconvert_exporter": "python",
   "pygments_lexer": "ipython3",
   "version": "3.8.8"
  },
  "orig_nbformat": 4
 },
 "nbformat": 4,
 "nbformat_minor": 2
}
