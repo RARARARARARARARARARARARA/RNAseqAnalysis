{
 "cells": [
  {
   "cell_type": "code",
   "execution_count": 64,
   "metadata": {},
   "outputs": [],
   "source": [
    "import numpy as np\n",
    "import scipy as sp\n",
    "import pandas as pd\n",
    "from os import listdir\n",
    "import shutil\n",
    "import seaborn as sb\n",
    "import matplotlib.pyplot as plt\n",
    "from matplotlib import rcParams\n",
    "from matplotlib import colors\n",
    "from sklearn.manifold import TSNE\n",
    "import subprocess\n",
    "import shlex\n",
    "import scanpy\n",
    "from sklearn.metrics import r2_score\n",
    "import random\n",
    "\n",
    "# todo:\n",
    "# umap / tsne on the whole dataset to see if ages are naturally seperable\n"
   ]
  },
  {
   "cell_type": "markdown",
   "metadata": {},
   "source": [
    "Aging is the time dependant weaking of the body. For example, aging in the pancreous can predispose people to diabetes (https://www.imrpress.com/journal/FBE/10/1/10.2741/e813). I will attempt to find theraputic targets that could be used to target aging in the pancreatus using scRNA-Seq data from  https://www.ncbi.nlm.nih.gov/geo/query/acc.cgi?acc=GSE81547.\n",
    "\n",
    "A good target is a gene or pathway that:\n",
    "\n",
    "(1) Has reletively constant expression accross cells from the same individual. Targeted cell delivery is a hard process, especially between cell types in the same organ, so the genes or pathways need to be consistant accross the single cells.\n",
    "\n",
    "(2) Is highly corralative with age. This is less important because if there is a gene whose expression is dependant on age in some nonlinear maner, it could still be a good target if it is modulated carefully. This is a simplifying assumption.\n",
    "\n",
    "(3) Has a large magnatude of change with age. Something that only changes subtley with age will be harder to modulate. This is more for gene selection rather than pathway selection."
   ]
  },
  {
   "cell_type": "markdown",
   "metadata": {},
   "source": [
    "# Data Preprocessing\n",
    "\n",
    "Creates the aggragated data for each sample in the ClupedData folder\n",
    "\n",
    "This just puts the data in a nicer form for downstream processing: files named with the donor age and sex with the counts of each RNA in each row."
   ]
  },
  {
   "cell_type": "markdown",
   "metadata": {},
   "source": [
    "This is the description of the data:\n",
    "\n",
    "\tAs organisms age, cells accumulate genetic and epigenetic changes that eventually lead to impaired organ function or catastrophic failure such as cancer. Here we describe a single-cell transcriptome analysis of 2544 human pancreas cells from donors, spanning six decades of life. We find that islet cells from older donors have increased levels of disorder as measured both by noise in the transcriptome and by the number of cells which display inappropriate hormone expression, revealing a transcriptional instability associated with aging. By analyzing the spectrum of somatic mutations in single cells from previously-healthy donors, we find a specific age-dependent mutational signature characterized by C to A and C to G transversions, indicators of oxidative stress, which is absent in single cells from human brain tissue or in a tumor cell line. Cells carrying a high load of such mutations also express higher levels of stress and senescence markers, including FOS, JUN, and the cytoplasmic superoxide dismutase SOD1, markers previously linked to pancreatic diseases with substantial age-dependent risk, such as type 2 diabetes mellitus and adenocarcinoma. Thus, our single-cell approach unveils gene expression changes and somatic mutations acquired in aging human tissue, and identifies molecular pathways induced by these genetic changes that could influence human disease. Also, our results demonstrate the feasibility of using single-cell RNA-seq data from primary cells to derive meaningful insights into the genetic processes that operate on aging human tissue and to determine which molecular mechanisms are coordinated with these processes.\n",
    "\n",
    "This dataset contains scRNA-seq data on the pancreas of humans of various ages."
   ]
  },
  {
   "cell_type": "code",
   "execution_count": 65,
   "metadata": {},
   "outputs": [
    {
     "data": {
      "text/html": [
       "<div>\n",
       "<style scoped>\n",
       "    .dataframe tbody tr th:only-of-type {\n",
       "        vertical-align: middle;\n",
       "    }\n",
       "\n",
       "    .dataframe tbody tr th {\n",
       "        vertical-align: top;\n",
       "    }\n",
       "\n",
       "    .dataframe thead th {\n",
       "        text-align: right;\n",
       "    }\n",
       "</style>\n",
       "<table border=\"1\" class=\"dataframe\">\n",
       "  <thead>\n",
       "    <tr style=\"text-align: right;\">\n",
       "      <th></th>\n",
       "      <th>0</th>\n",
       "      <th>1</th>\n",
       "    </tr>\n",
       "  </thead>\n",
       "  <tbody>\n",
       "    <tr>\n",
       "      <th>0</th>\n",
       "      <td>1/2-SBSRNA4</td>\n",
       "      <td>0</td>\n",
       "    </tr>\n",
       "    <tr>\n",
       "      <th>1</th>\n",
       "      <td>A1BG</td>\n",
       "      <td>0</td>\n",
       "    </tr>\n",
       "    <tr>\n",
       "      <th>2</th>\n",
       "      <td>A1BG-AS1</td>\n",
       "      <td>0</td>\n",
       "    </tr>\n",
       "    <tr>\n",
       "      <th>3</th>\n",
       "      <td>A1CF</td>\n",
       "      <td>0</td>\n",
       "    </tr>\n",
       "    <tr>\n",
       "      <th>4</th>\n",
       "      <td>A2LD1</td>\n",
       "      <td>0</td>\n",
       "    </tr>\n",
       "    <tr>\n",
       "      <th>...</th>\n",
       "      <td>...</td>\n",
       "      <td>...</td>\n",
       "    </tr>\n",
       "    <tr>\n",
       "      <th>23460</th>\n",
       "      <td>no_feature</td>\n",
       "      <td>407558</td>\n",
       "    </tr>\n",
       "    <tr>\n",
       "      <th>23461</th>\n",
       "      <td>ambiguous</td>\n",
       "      <td>3754</td>\n",
       "    </tr>\n",
       "    <tr>\n",
       "      <th>23462</th>\n",
       "      <td>too_low_aQual</td>\n",
       "      <td>0</td>\n",
       "    </tr>\n",
       "    <tr>\n",
       "      <th>23463</th>\n",
       "      <td>not_aligned</td>\n",
       "      <td>0</td>\n",
       "    </tr>\n",
       "    <tr>\n",
       "      <th>23464</th>\n",
       "      <td>alignment_not_unique</td>\n",
       "      <td>85563</td>\n",
       "    </tr>\n",
       "  </tbody>\n",
       "</table>\n",
       "<p>23465 rows × 2 columns</p>\n",
       "</div>"
      ],
      "text/plain": [
       "                          0       1\n",
       "0               1/2-SBSRNA4       0\n",
       "1                      A1BG       0\n",
       "2                  A1BG-AS1       0\n",
       "3                      A1CF       0\n",
       "4                     A2LD1       0\n",
       "...                     ...     ...\n",
       "23460            no_feature  407558\n",
       "23461             ambiguous    3754\n",
       "23462         too_low_aQual       0\n",
       "23463           not_aligned       0\n",
       "23464  alignment_not_unique   85563\n",
       "\n",
       "[23465 rows x 2 columns]"
      ]
     },
     "execution_count": 65,
     "metadata": {},
     "output_type": "execute_result"
    }
   ],
   "source": [
    "path = 'GSE81547'\n",
    "datasets = sorted([path+'/'+i for i in listdir(path)])\n",
    "\n",
    "pd.read_csv(datasets[0],delimiter='\\t',header=None)"
   ]
  },
  {
   "cell_type": "markdown",
   "metadata": {},
   "source": [
    "The files themselves don't contain any information on the samples. Clumn 0 contains the gene and column 1 contains the Transcript counts. The last 5 rows contains data on the RNA-Seq preprocessing. First lets use the metadata file to get the ages and sexes of each sample."
   ]
  },
  {
   "cell_type": "code",
   "execution_count": 66,
   "metadata": {},
   "outputs": [],
   "source": [
    "id2file = lambda id: [i for i in datasets if i[i.find('/')+1:i.find('_')] == id][0]\n",
    "with open('GSE81547_series_matrix.txt') as f:\n",
    "    for line in f:\n",
    "        if line.startswith('!Series_sample_id'):\n",
    "            identifier = line[len('!Series_sample_id\\t')+1:-3].split(' ')\n",
    "        if line.startswith('!Sample_title'):\n",
    "            donor = [(int(i[1:i.find('yr')]),i[i.find('_')+1]) for i in line[len('!Sample_title\\t'):].split('\\t')]\n",
    "            donor = [(i, [id2file(identifier[j]) for j,k in enumerate(donor) if k == i]) for i in set(donor)]\n",
    "donor.sort()"
   ]
  },
  {
   "cell_type": "code",
   "execution_count": 67,
   "metadata": {},
   "outputs": [],
   "source": [
    "for id,files in donor:\n",
    "    dfs = [pd.read_csv(files[0],delimiter='\\t',header=None)] + [pd.read_csv(f,delimiter='\\t',header=None)[1] for f in files[1:]]\n",
    "    totdata = pd.concat(dfs,axis=1).iloc[:-5, :]\n",
    "    totdata.columns = ['Gene'] + list(range(len(totdata.columns)-1))\n",
    "    totdata.to_csv(f'ClumpedData/{\"0\"*(id[0]<10)}{id[0]}_{id[1]}.csv',index=False,sep='\\t')"
   ]
  },
  {
   "cell_type": "markdown",
   "metadata": {},
   "source": [
    "Now we have a function that takes the file name and returns the metadata"
   ]
  },
  {
   "cell_type": "markdown",
   "metadata": {},
   "source": [
    "# Data Cleaning"
   ]
  },
  {
   "cell_type": "markdown",
   "metadata": {},
   "source": [
    "I will be using enhance from https://www.biorxiv.org/content/10.1101/655365v2.full\n",
    "\n",
    "The algorithm is incredibly simple. It basically assumes the data has a large nullspace and the data is noisy and uses PCA to choose which dimensions to keep.\n",
    "\n",
    "One potentially bad assumption that this makes is that the low dimentional space that biological expression data falls can be represented as the linear combination of basis vectors, rather than being on an arbetrary manifold. This would lead to the PCA either losing some biological signal because it removed too many dimentions are retaining some technical noise because it used more PCA dimentions than the dimention of the manifold so that it could actually retain the whole manifold as a subspace."
   ]
  },
  {
   "cell_type": "code",
   "execution_count": 68,
   "metadata": {},
   "outputs": [
    {
     "name": "stdout",
     "output_type": "stream",
     "text": [
      "[2022-02-26 12:36:39] INFO: Reading the expression matrix (24.4 MB) from \"ClumpedData/38_f.csv\"...\n",
      "[2022-02-26 12:36:40] INFO: The expression matrix contains 23460 genes and 474 cells.\n",
      "[2022-02-26 12:36:40] INFO: Applying ENHANCE...\n",
      "[2022-02-26 12:36:40] INFO: Input matrix hash: 6252997962fecec3c3afc6b35e100870\n",
      "[2022-02-26 12:36:41] INFO: The median transcript count of the matrix is 559682.5.\n",
      "[2022-02-26 12:36:41] INFO: Will perform denoising with k=1 (value was determined automatically based on a target transcript count of 200000).\n",
      "[2022-02-26 12:36:41] INFO: Determining the number of significant PCs...\n",
      "[2022-02-26 12:36:45] INFO: The number of significant PCs is 50.\n",
      "[2022-02-26 12:36:45] INFO: Aggregating cells...\n",
      "[2022-02-26 12:36:48] INFO: Removing noise using PCA...\n",
      "[2022-02-26 12:36:50] INFO: ENHANCE took 9.2 s.\n",
      "[2022-02-26 12:36:50] INFO: Denoised matrix hash: 2cf78b970ff28bbad9f01b66224177b8\n",
      "[2022-02-26 12:36:50] INFO: Writing the denoised expression matrix to \"DenoisedData/38_f.csv\"...\n",
      "[2022-02-26 12:37:01] INFO: File size: 90.1 MB.\n",
      "[2022-02-26 12:37:03] INFO: Reading the expression matrix (14.5 MB) from \"ClumpedData/44_f.csv\"...\n",
      "[2022-02-26 12:37:04] INFO: The expression matrix contains 23460 genes and 277 cells.\n",
      "[2022-02-26 12:37:04] INFO: Applying ENHANCE...\n",
      "[2022-02-26 12:37:04] INFO: Input matrix hash: a84467dac2fef1a0ac401d94ca7c3e55\n",
      "[2022-02-26 12:37:04] INFO: The median transcript count of the matrix is 597435.0.\n",
      "[2022-02-26 12:37:04] INFO: Will perform denoising with k=1 (value was determined automatically based on a target transcript count of 200000).\n",
      "[2022-02-26 12:37:04] INFO: Determining the number of significant PCs...\n",
      "[2022-02-26 12:37:06] INFO: The number of significant PCs is 50.\n",
      "[2022-02-26 12:37:06] INFO: Aggregating cells...\n",
      "[2022-02-26 12:37:08] INFO: Removing noise using PCA...\n",
      "[2022-02-26 12:37:09] INFO: ENHANCE took 5.2 s.\n",
      "[2022-02-26 12:37:09] INFO: Denoised matrix hash: 93fe26413323f6ab628c3c1711222f72\n",
      "[2022-02-26 12:37:09] INFO: Writing the denoised expression matrix to \"DenoisedData/44_f.csv\"...\n",
      "[2022-02-26 12:37:15] INFO: File size: 50.1 MB.\n",
      "[2022-02-26 12:37:16] INFO: Reading the expression matrix (14.4 MB) from \"ClumpedData/22_m.csv\"...\n",
      "[2022-02-26 12:37:17] INFO: The expression matrix contains 23460 genes and 286 cells.\n",
      "[2022-02-26 12:37:17] INFO: Applying ENHANCE...\n",
      "[2022-02-26 12:37:17] INFO: Input matrix hash: b1b7db2b8171c85ef44a6cdac8887947\n",
      "[2022-02-26 12:37:17] INFO: The median transcript count of the matrix is 316511.5.\n",
      "[2022-02-26 12:37:17] INFO: Will perform denoising with k=1 (value was determined automatically based on a target transcript count of 200000).\n",
      "[2022-02-26 12:37:17] INFO: Determining the number of significant PCs...\n",
      "[2022-02-26 12:37:20] INFO: The number of significant PCs is 50.\n",
      "[2022-02-26 12:37:20] INFO: Aggregating cells...\n",
      "[2022-02-26 12:37:22] INFO: Removing noise using PCA...\n",
      "[2022-02-26 12:37:23] INFO: ENHANCE took 5.9 s.\n",
      "[2022-02-26 12:37:23] INFO: Denoised matrix hash: 3840a948d003ed9523c291fc67cac437\n",
      "[2022-02-26 12:37:23] INFO: Writing the denoised expression matrix to \"DenoisedData/22_m.csv\"...\n",
      "[2022-02-26 12:37:29] INFO: File size: 50.8 MB.\n",
      "[2022-02-26 12:37:30] INFO: Reading the expression matrix (9.0 MB) from \"ClumpedData/06_m.csv\"...\n",
      "[2022-02-26 12:37:31] INFO: The expression matrix contains 23460 genes and 178 cells.\n",
      "[2022-02-26 12:37:31] INFO: Applying ENHANCE...\n",
      "[2022-02-26 12:37:31] INFO: Input matrix hash: 1f26ae1595255383f94fe7084f0114a1\n",
      "[2022-02-26 12:37:31] INFO: The median transcript count of the matrix is 511640.0.\n",
      "[2022-02-26 12:37:31] INFO: Will perform denoising with k=1 (value was determined automatically based on a target transcript count of 200000).\n",
      "[2022-02-26 12:37:31] INFO: Determining the number of significant PCs...\n",
      "[2022-02-26 12:37:33] INFO: The number of significant PCs is 50.\n",
      "[2022-02-26 12:37:33] INFO: Aggregating cells...\n",
      "[2022-02-26 12:37:34] INFO: Removing noise using PCA...\n",
      "[2022-02-26 12:37:35] INFO: ENHANCE took 4.2 s.\n",
      "[2022-02-26 12:37:35] INFO: Denoised matrix hash: dc347a781788378232b136706869f4bb\n",
      "[2022-02-26 12:37:35] INFO: Writing the denoised expression matrix to \"DenoisedData/06_m.csv\"...\n",
      "[2022-02-26 12:37:39] INFO: File size: 29.1 MB.\n",
      "[2022-02-26 12:37:40] INFO: Reading the expression matrix (11.1 MB) from \"ClumpedData/01_m.csv\"...\n",
      "[2022-02-26 12:37:40] INFO: The expression matrix contains 23460 genes and 221 cells.\n",
      "[2022-02-26 12:37:40] INFO: Applying ENHANCE...\n",
      "[2022-02-26 12:37:40] INFO: Input matrix hash: a49b59c51adb311b17e84c8ed90d7bb6\n",
      "[2022-02-26 12:37:40] INFO: The median transcript count of the matrix is 415386.0.\n",
      "[2022-02-26 12:37:40] INFO: Will perform denoising with k=1 (value was determined automatically based on a target transcript count of 200000).\n",
      "[2022-02-26 12:37:40] INFO: Determining the number of significant PCs...\n",
      "[2022-02-26 12:37:42] INFO: The number of significant PCs is 50.\n",
      "[2022-02-26 12:37:42] INFO: Aggregating cells...\n",
      "[2022-02-26 12:37:44] INFO: Removing noise using PCA...\n",
      "[2022-02-26 12:37:45] INFO: ENHANCE took 4.8 s.\n",
      "[2022-02-26 12:37:45] INFO: Denoised matrix hash: 024a5520bc8534faf9adca2349aacaf2\n",
      "[2022-02-26 12:37:45] INFO: Writing the denoised expression matrix to \"DenoisedData/01_m.csv\"...\n",
      "[2022-02-26 12:37:50] INFO: File size: 37.8 MB.\n",
      "[2022-02-26 12:37:51] INFO: Reading the expression matrix (16.8 MB) from \"ClumpedData/05_m.csv\"...\n",
      "[2022-02-26 12:37:52] INFO: The expression matrix contains 23460 genes and 331 cells.\n",
      "[2022-02-26 12:37:52] INFO: Applying ENHANCE...\n",
      "[2022-02-26 12:37:52] INFO: Input matrix hash: 89c3879c62bda5dc049da866e7b15f7f\n",
      "[2022-02-26 12:37:52] INFO: The median transcript count of the matrix is 786407.0.\n",
      "[2022-02-26 12:37:52] INFO: Will perform denoising with k=1 (value was determined automatically based on a target transcript count of 200000).\n",
      "[2022-02-26 12:37:52] INFO: Determining the number of significant PCs...\n",
      "[2022-02-26 12:37:55] INFO: The number of significant PCs is 50.\n",
      "[2022-02-26 12:37:55] INFO: Aggregating cells...\n",
      "[2022-02-26 12:37:57] INFO: Removing noise using PCA...\n",
      "[2022-02-26 12:37:58] INFO: ENHANCE took 6.6 s.\n",
      "[2022-02-26 12:37:58] INFO: Denoised matrix hash: 5b981c3de895d5f2cf371752833be43a\n",
      "[2022-02-26 12:37:58] INFO: Writing the denoised expression matrix to \"DenoisedData/05_m.csv\"...\n",
      "[2022-02-26 12:38:06] INFO: File size: 60.2 MB.\n",
      "[2022-02-26 12:38:07] INFO: Reading the expression matrix (13.8 MB) from \"ClumpedData/54_m.csv\"...\n",
      "[2022-02-26 12:38:08] INFO: The expression matrix contains 23460 genes and 272 cells.\n",
      "[2022-02-26 12:38:08] INFO: Applying ENHANCE...\n",
      "[2022-02-26 12:38:08] INFO: Input matrix hash: 6f3cbeeb31967102874c194f206e7daf\n",
      "[2022-02-26 12:38:08] INFO: The median transcript count of the matrix is 477723.0.\n",
      "[2022-02-26 12:38:08] INFO: Will perform denoising with k=1 (value was determined automatically based on a target transcript count of 200000).\n",
      "[2022-02-26 12:38:08] INFO: Determining the number of significant PCs...\n",
      "[2022-02-26 12:38:10] INFO: The number of significant PCs is 50.\n",
      "[2022-02-26 12:38:10] INFO: Aggregating cells...\n",
      "[2022-02-26 12:38:12] INFO: Removing noise using PCA...\n",
      "[2022-02-26 12:38:13] INFO: ENHANCE took 5.5 s.\n",
      "[2022-02-26 12:38:13] INFO: Denoised matrix hash: f0443e8fc3ff92045a2406cd5124a00c\n",
      "[2022-02-26 12:38:13] INFO: Writing the denoised expression matrix to \"DenoisedData/54_m.csv\"...\n",
      "[2022-02-26 12:38:19] INFO: File size: 47.6 MB.\n",
      "[2022-02-26 12:38:20] INFO: Reading the expression matrix (26.3 MB) from \"ClumpedData/21_m.csv\"...\n",
      "[2022-02-26 12:38:21] INFO: The expression matrix contains 23460 genes and 505 cells.\n",
      "[2022-02-26 12:38:21] INFO: Applying ENHANCE...\n",
      "[2022-02-26 12:38:21] INFO: Input matrix hash: 34ae79c3bf2c8321a33bce10644dfce2\n",
      "[2022-02-26 12:38:21] INFO: The median transcript count of the matrix is 581631.0.\n",
      "[2022-02-26 12:38:21] INFO: Will perform denoising with k=1 (value was determined automatically based on a target transcript count of 200000).\n",
      "[2022-02-26 12:38:21] INFO: Determining the number of significant PCs...\n",
      "[2022-02-26 12:38:25] INFO: The number of significant PCs is 50.\n",
      "[2022-02-26 12:38:25] INFO: Aggregating cells...\n",
      "[2022-02-26 12:38:28] INFO: Removing noise using PCA...\n",
      "[2022-02-26 12:38:29] INFO: ENHANCE took 7.8 s.\n",
      "[2022-02-26 12:38:29] INFO: Denoised matrix hash: 9c295c83c85be18e49fc02d7595db5ff\n",
      "[2022-02-26 12:38:29] INFO: Writing the denoised expression matrix to \"DenoisedData/21_m.csv\"...\n",
      "[2022-02-26 12:38:39] INFO: File size: 98.3 MB.\n"
     ]
    }
   ],
   "source": [
    "folder = 'ClumpedData/'\n",
    "for file in listdir(folder):\n",
    "    subprocess.call(shlex.split(f'python3 enhance/enhance.py -f {folder+file} -o DenoisedData/{file} --seed 0'))"
   ]
  },
  {
   "cell_type": "markdown",
   "metadata": {},
   "source": [
    "Now that the data is (hopefully) denoised, I can store the data in some variables for downstreme analysis."
   ]
  },
  {
   "cell_type": "code",
   "execution_count": 156,
   "metadata": {},
   "outputs": [],
   "source": [
    "folder = 'DenoisedData/'\n",
    "iqrs = []\n",
    "meds = []\n",
    "for i,f in enumerate(sorted(listdir(folder))):\n",
    "    df = pd.read_csv(folder+f,delimiter='\\t')\n",
    "    counts = df[df.columns[1:]]\n",
    "    genes = df['Gene']\n",
    "    # print('(Genes, Cells) =',counts.shape)\n",
    "    genemed = np.median(counts,axis=1)\n",
    "    geneiqr = np.percentile(counts, [75 ,25],axis=1)\n",
    "\n",
    "    iqrs += [geneiqr]\n",
    "    meds += [genemed]\n",
    "iqrs = np.array(list(iqrs))\n",
    "meds = np.array(list(meds))\n",
    "gene2ind = { j : i for i,j in enumerate(genes) }"
   ]
  },
  {
   "cell_type": "markdown",
   "metadata": {},
   "source": [
    "# Reactome Pathway Analysis"
   ]
  },
  {
   "cell_type": "markdown",
   "metadata": {},
   "source": [
    "Aging has many causes, so targeting any specific gene will likely not result in a succesful drug. I will see which pathways are differentially regulated due to age so they could be used as a drug target. The idea is if, for example, immune system pathways are enriched, immunosuprescence could be a potential drug target.\n",
    "\n",
    "\n",
    "I will be using Reactome for my pathway analysis. For pathway analysis, noise matters less because false posatives aren't that big of a deal. In order to find the biologically meaningful genes while allowing nonlinear relationships in the data, I will be using parabolic regression. I can't check for any complicated nonlinear relationships because I only have 8 samples."
   ]
  },
  {
   "cell_type": "code",
   "execution_count": 148,
   "metadata": {},
   "outputs": [
    {
     "name": "stdout",
     "output_type": "stream",
     "text": [
      "Reactome genes with a good parabolic fit: 382\n"
     ]
    }
   ],
   "source": [
    "t = [int(i[:2]) for i in sorted(listdir(folder))]\n",
    "goodinds = []\n",
    "for i,y in enumerate(meds.T):\n",
    "    if np.max(y) > 1:\n",
    "        poly = np.poly1d(np.polyfit(t, y, 2))\n",
    "        yhat = poly(t)\n",
    "        r = r2_score(y,yhat)\n",
    "        if r > 0.7:\n",
    "            goodinds += [i]\n",
    "\n",
    "\n",
    "print('Reactome genes with a good parabolic fit:',len(goodinds))\n",
    "with open('ReactomeGenesV0.txt','w+') as f:\n",
    "    for i in genes[goodinds]:\n",
    "        f.write(i+'\\n')"
   ]
  },
  {
   "cell_type": "markdown",
   "metadata": {},
   "source": [
    "Let's check out some of these genes to make sure they're actually related to age... (Just run the cell over and over for different examples)"
   ]
  },
  {
   "cell_type": "code",
   "execution_count": 151,
   "metadata": {},
   "outputs": [
    {
     "data": {
      "text/plain": [
       "Text(0, 0.5, 'Gene Expression')"
      ]
     },
     "execution_count": 151,
     "metadata": {},
     "output_type": "execute_result"
    },
    {
     "data": {
      "image/png": "[encoded data removed]",
      "text/plain": [
       "<Figure size 432x288 with 1 Axes>"
      ]
     },
     "metadata": {
      "needs_background": "light"
     },
     "output_type": "display_data"
    }
   ],
   "source": [
    "thay = np.linspace(min(t),max(t),100)\n",
    "g = random.choice(goodinds)\n",
    "y = meds[:,g].T\n",
    "poly = np.poly1d(np.polyfit(t, y, 2))\n",
    "yhat = poly(t)\n",
    "r = r2_score(y,yhat)\n",
    "plt.plot(t,y,'.')\n",
    "plt.plot(thay,poly(thay))\n",
    "plt.title(f\"{genes[g]}:   r = {round(r,2)}\")\n",
    "plt.xlabel('Age')\n",
    "plt.ylabel('Gene Expression')"
   ]
  },
  {
   "cell_type": "markdown",
   "metadata": {},
   "source": [
    "These genes were then ran through Reactome for pathway analysis.\n",
    "\n",
    "Section 4 shows the most upregulated pathways. There's plenty of pathways for a biologist to interperate. The most important thing to look at is the False Discovery Rate (FDR). It can be thought of as the probability that the pathway is differentially expressed through chance alone, as opposed to through biologically relevent meanings.\n",
    "\n",
    "For a visual interprotation, see the image below.\n",
    "\n",
    "The more yellow a pathway is, the more confident Reactome is that relates to aging.\n",
    "\n",
    "![alt text](ReacfoamV0.jpg \"PathwaysV0\")"
   ]
  },
  {
   "cell_type": "markdown",
   "metadata": {},
   "source": [
    "# Overlap\n",
    "\n",
    "This section will look for the subset of genes that are enriched in multiple pathways that we could actually target with the theraputic"
   ]
  },
  {
   "cell_type": "code",
   "execution_count": 152,
   "metadata": {},
   "outputs": [],
   "source": [
    "data = pd.read_csv('ReactomeDataV0.csv')\n",
    "\n",
    "gene2path = { i : [] for i in genes}\n",
    "for i , j , fdr in zip(data['Submitted entities found'],data['Pathway name'],data['Entities FDR']):\n",
    "    if fdr < 0.05:\n",
    "        for k in i.strip().split(';'):\n",
    "            if k in gene2path:\n",
    "                gene2path[k] += [j]"
   ]
  },
  {
   "cell_type": "markdown",
   "metadata": {},
   "source": [
    "gene2path is a dictionary mapping the genes to age with the pathways they're involved in. Let's use this to find the genes that are most associated with the enriched pathways.\n",
    "\n",
    "We'll start by eliminating genes that have 1 or less significant pathways."
   ]
  },
  {
   "cell_type": "code",
   "execution_count": 153,
   "metadata": {},
   "outputs": [
    {
     "data": {
      "text/plain": [
       "{'CAMK2G': ['Transcriptional Regulation by MECP2',\n",
       "  'Regulation of MECP2 expression and activity'],\n",
       " 'CDKN2A': ['Oncogene Induced Senescence',\n",
       "  'Oxidative Stress Induced Senescence'],\n",
       " 'MECP2': ['Transcriptional Regulation by MECP2',\n",
       "  'Regulation of MECP2 expression and activity'],\n",
       " 'NCOR1': ['Transcriptional Regulation by MECP2',\n",
       "  'Regulation of MECP2 expression and activity'],\n",
       " 'PRKACA': ['Transcriptional Regulation by MECP2',\n",
       "  'Regulation of MECP2 expression and activity'],\n",
       " 'UBB': ['Oncogene Induced Senescence',\n",
       "  'Oxidative Stress Induced Senescence',\n",
       "  'Chaperone Mediated Autophagy']}"
      ]
     },
     "execution_count": 153,
     "metadata": {},
     "output_type": "execute_result"
    }
   ],
   "source": [
    "possibletargets = { i : j for i,j in gene2path.items() if len(j) > 1 }\n",
    "possibletargets"
   ]
  },
  {
   "cell_type": "markdown",
   "metadata": {},
   "source": [
    "Those are our potential targets. Let's look at the data over time to see if we can find one that linearly varies over time."
   ]
  },
  {
   "cell_type": "code",
   "execution_count": 175,
   "metadata": {},
   "outputs": [
    {
     "data": {
      "image/png": "[encoded data removed]",
      "text/plain": [
       "<Figure size 432x288 with 1 Axes>"
      ]
     },
     "metadata": {
      "needs_background": "light"
     },
     "output_type": "display_data"
    },
    {
     "data": {
      "image/png": "[encoded data removed]",
      "text/plain": [
       "<Figure size 432x288 with 1 Axes>"
      ]
     },
     "metadata": {
      "needs_background": "light"
     },
     "output_type": "display_data"
    },
    {
     "data": {
      "image/png": "[encoded data removed]",
      "text/plain": [
       "<Figure size 432x288 with 1 Axes>"
      ]
     },
     "metadata": {
      "needs_background": "light"
     },
     "output_type": "display_data"
    },
    {
     "data": {
      "image/png": "[encoded data removed]",
      "text/plain": [
       "<Figure size 432x288 with 1 Axes>"
      ]
     },
     "metadata": {
      "needs_background": "light"
     },
     "output_type": "display_data"
    },
    {
     "data": {
      "image/png": "[encoded data removed]",
      "text/plain": [
       "<Figure size 432x288 with 1 Axes>"
      ]
     },
     "metadata": {
      "needs_background": "light"
     },
     "output_type": "display_data"
    },
    {
     "data": {
      "image/png": "[encoded data removed]",
      "text/plain": [
       "<Figure size 432x288 with 1 Axes>"
      ]
     },
     "metadata": {
      "needs_background": "light"
     },
     "output_type": "display_data"
    }
   ],
   "source": [
    "t = [int(i[:2]) for i in sorted(listdir(folder))]\n",
    "that = np.linspace(min(t),max(t),1000)\n",
    "for i,j in possibletargets.items():\n",
    "    m = meds[:,gene2ind[i]]\n",
    "    s = abs(m[:,np.newaxis] - iqrs[:,::-1,gene2ind[i]])\n",
    "    \n",
    "    (r, p) = sp.stats.pearsonr(t, m)\n",
    "    poly = np.poly1d(np.polyfit(t, m, 1))\n",
    "    mhat = poly(that)\n",
    "    \n",
    "    plt.errorbar(t, m, s.T, linestyle='None', marker='^')\n",
    "    plt.plot(that,mhat)\n",
    "    plt.title(f\"{i}: r = {round(r,2)}, p = {round(p,2)}\")\n",
    "    plt.xlabel('Age')\n",
    "    plt.ylabel('Expression')\n",
    "    plt.show()"
   ]
  },
  {
   "cell_type": "markdown",
   "metadata": {},
   "source": [
    "It seems like PRKACA would make the best target. With the intended targeting of Transcriptional Regulation by MECP2 and Regulation of MECP2 expression and activity. From here, you could look for known drugs that decrease PRKACA or you could base the drug search on the pathway analysis.\n",
    "\n",
    "Unfortunately,\n",
    "    (1) Has reletively constant expression accross cells from the same individual. Targeted cell delivery is a hard process, especially between cell types in the same organ, so the genes or pathways need to be consistant accross the single cells.\n",
    "was not able to be achieved in any of the genes. This could because cells are naturally heterogeneous, the low dimentional space that biological expression data falls on is a manifold that may not be able to be expressed with PCA"
   ]
  }
 ],
 "metadata": {
  "interpreter": {
   "hash": "569d0bbc3854db4a73f5be0bb5576848176d13611564839ca8e34057b1299597"
  },
  "kernelspec": {
   "display_name": "Python 3.8.8 ('base')",
   "language": "python",
   "name": "python3"
  },
  "language_info": {
   "codemirror_mode": {
    "name": "ipython",
    "version": 3
   },
   "file_extension": ".py",
   "mimetype": "text/x-python",
   "name": "python",
   "nbconvert_exporter": "python",
   "pygments_lexer": "ipython3",
   "version": "3.9.9"
  },
  "orig_nbformat": 4
 },
 "nbformat": 4,
 "nbformat_minor": 2
}
